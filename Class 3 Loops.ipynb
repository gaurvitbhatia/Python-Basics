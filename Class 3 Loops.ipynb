{
 "cells": [
  {
   "cell_type": "code",
   "execution_count": null,
   "metadata": {},
   "outputs": [],
   "source": [
    "t = (1,2,3,4,5,6)"
   ]
  },
  {
   "cell_type": "code",
   "execution_count": null,
   "metadata": {},
   "outputs": [],
   "source": [
    "t.count(2)"
   ]
  },
  {
   "cell_type": "code",
   "execution_count": null,
   "metadata": {},
   "outputs": [],
   "source": [
    "t.index(5)"
   ]
  },
  {
   "cell_type": "code",
   "execution_count": null,
   "metadata": {},
   "outputs": [],
   "source": [
    "t[1:]"
   ]
  },
  {
   "cell_type": "markdown",
   "metadata": {},
   "source": [
    "Conditions and loops :"
   ]
  },
  {
   "cell_type": "code",
   "execution_count": null,
   "metadata": {},
   "outputs": [],
   "source": [
    "a = False\n",
    "b = 10\n",
    "\n",
    "if a:\n",
    "    print(\"both are same\")\n",
    "else:\n",
    "    print(\"diferent nums.\")"
   ]
  },
  {
   "cell_type": "code",
   "execution_count": null,
   "metadata": {},
   "outputs": [],
   "source": [
    "print(\"Welcome to Krtik's sandwitch shop\")\n",
    "sand_type = input(\"What would you like to have?\").lower()\n",
    "\n",
    "if sand_type ==\"cheese\":\n",
    "    cheese_type = input(\"Select your cheese sandwitch type\").lower()\n",
    "    if cheese_type == \"machengo\":\n",
    "        print(\"Here is your Machengo Cheese Sandwitch!\")\n",
    "    elif cheese_type == \"cheddar\":\n",
    "        print(\"Here is your Cheddar Cheese Sandwitch!\")\n",
    "\n",
    "elif sand_type == \"veggie\":\n",
    "    print(\"Here is your Veggie Special!\")\n",
    "\n",
    "else:\n",
    "    print(\"We dont have the sandwitch type you are looking for\")\n",
    "\n",
    "print(\"Goodbye!Have a nice day!\")\n",
    "    "
   ]
  },
  {
   "cell_type": "code",
   "execution_count": null,
   "metadata": {},
   "outputs": [],
   "source": [
    "human_year = int(input(\"Enter the no. of human years \"))\n",
    "\n",
    "if human_year <=2 and human_year > 0:\n",
    "    dog_year = 10.5 * human_year\n",
    "elif human_year > 2:\n",
    "    dog_year = 10.5 * 2 + 4 * (human_year - 2)\n",
    "print(dog_year)"
   ]
  },
  {
   "cell_type": "code",
   "execution_count": null,
   "metadata": {},
   "outputs": [],
   "source": [
    "l = input(\"enter a character\").lower()\n",
    "\n",
    "if l == 'a' or l == 'e' or l == 'i' or l == 'o' or l == 'u':\n",
    "    print(\"Entered letter is a vowel\")\n",
    "elif l == 'y':\n",
    "    print(\"Sometimes y is a vowel and sometimes consonant\")\n",
    "else:\n",
    "    print(\"Entered letter is a consonant\")"
   ]
  },
  {
   "cell_type": "code",
   "execution_count": null,
   "metadata": {},
   "outputs": [],
   "source": [
    "num = [1,2,3,4,5,6,7,8,9,10,11,12,13,14]\n",
    "\n",
    "for i in num:\n",
    "    if i % 2 == 0:\n",
    "        print(i, ' even')\n",
    "    else:\n",
    "        print(i,' odd')\n",
    "        "
   ]
  },
  {
   "cell_type": "code",
   "execution_count": null,
   "metadata": {},
   "outputs": [],
   "source": [
    "stu = int(input(\"enter the no of students\"))\n",
    "print(\"Enter the name and score of each student\")\n",
    "\n",
    "list = []\n",
    "for i in range(0,stu):\n",
    "    score = int(input())\n",
    "    list.append(score)\n",
    "list.sort()\n",
    "print(\"Highest score is : \",list[stu -1])"
   ]
  },
  {
   "cell_type": "markdown",
   "metadata": {},
   "source": [
    "\n"
   ]
  },
  {
   "cell_type": "code",
   "execution_count": 2,
   "metadata": {},
   "outputs": [
    {
     "name": "stdout",
     "output_type": "stream",
     "text": [
      "enter the no of students3\n",
      "Enter student name:\n",
      "ef\n",
      "Enter student score:\n",
      "23\n",
      "Enter student name:\n",
      "rg\n",
      "Enter student score:\n",
      "4\n",
      "Enter student name:\n",
      "ef\n",
      "Enter student score:\n",
      "67\n",
      "Highest score is :  67\n",
      "Student name is :  ef\n"
     ]
    }
   ],
   "source": [
    "st1 = ''\n",
    "sc1 = 0\n",
    "\n",
    "stu = int(input(\"enter the no of students\"))\n",
    "for i in range(0,stu):\n",
    "    print(\"Enter student name:\")\n",
    "    st_name = input()\n",
    "    print(\"Enter student score:\")\n",
    "    score = int(input())\n",
    "    if score > sc1:\n",
    "        sc1 = score\n",
    "        st1 = st_name\n",
    "print(\"Highest score is : \",sc1)\n",
    "print(\"Student name is : \", st1)\n",
    "    "
   ]
  },
  {
   "cell_type": "code",
   "execution_count": 7,
   "metadata": {},
   "outputs": [
    {
     "name": "stdout",
     "output_type": "stream",
     "text": [
      "120 150 180 210 240 270 300 330 360 390 \n",
      "\n",
      "420 450 480 510 540 570 600 630 660 690 \n",
      "\n",
      "720 750 780 810 840 870 900 930 960 990 \n",
      "\n"
     ]
    }
   ],
   "source": [
    "count = 0\n",
    "for num in range(100,1000):\n",
    "    if num % 5 == 0 and num % 6 == 0:\n",
    "        print(num, end = ' ')\n",
    "        count = count + 1\n",
    "        if count % 10 == 0:\n",
    "            print(\"\\n\")\n",
    "        "
   ]
  },
  {
   "cell_type": "code",
   "execution_count": 23,
   "metadata": {},
   "outputs": [
    {
     "name": "stdout",
     "output_type": "stream",
     "text": [
      "Enter a number : 8\n",
      "factorial is :  40320\n"
     ]
    }
   ],
   "source": [
    "num = int(input(\"Enter a number : \"))\n",
    "\n",
    "fact = 1\n",
    "\n",
    "if num == 0 or num == 1:\n",
    "    print(\"factorial is : \",fact)\n",
    "    \n",
    "elif num < 0:\n",
    "    print(\"Please enter a positive number\")\n",
    "    \n",
    "else:\n",
    "    for i in range(0,num):\n",
    "        fact = fact + fact * i\n",
    "    print(\"factorial is : \",fact)\n"
   ]
  },
  {
   "cell_type": "code",
   "execution_count": 27,
   "metadata": {},
   "outputs": [
    {
     "name": "stdout",
     "output_type": "stream",
     "text": [
      "Enter a number : 10\n",
      "0\n",
      "1\n",
      "1\n",
      "2\n",
      "3\n",
      "5\n",
      "8\n",
      "13\n",
      "21\n",
      "34\n",
      "55\n",
      "89\n"
     ]
    }
   ],
   "source": [
    "num = int(input(\"Enter a number : \"))\n",
    "\n",
    "a = 0\n",
    "b = 1\n",
    "print(a)\n",
    "print(b)\n",
    "for i in range(0,num):\n",
    "    c = a + b\n",
    "    print(c)\n",
    "    a = b\n",
    "    b = c"
   ]
  },
  {
   "cell_type": "code",
   "execution_count": null,
   "metadata": {},
   "outputs": [],
   "source": []
  }
 ],
 "metadata": {
  "kernelspec": {
   "display_name": "Python 3",
   "language": "python",
   "name": "python3"
  },
  "language_info": {
   "codemirror_mode": {
    "name": "ipython",
    "version": 3
   },
   "file_extension": ".py",
   "mimetype": "text/x-python",
   "name": "python",
   "nbconvert_exporter": "python",
   "pygments_lexer": "ipython3",
   "version": "3.7.1"
  }
 },
 "nbformat": 4,
 "nbformat_minor": 2
}
